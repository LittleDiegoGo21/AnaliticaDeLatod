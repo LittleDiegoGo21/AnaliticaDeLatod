{
 "cells": [
  {
   "cell_type": "markdown",
   "metadata": {},
   "source": [
    "# Condiciones y ejecucion Condicional"
   ]
  },
  {
   "cell_type": "markdown",
   "metadata": {},
   "source": [
    "Nota"
   ]
  },
  {
   "cell_type": "markdown",
   "metadata": {},
   "source": [
    "# Ejemplo 1"
   ]
  },
  {
   "cell_type": "code",
   "execution_count": 5,
   "metadata": {},
   "outputs": [
    {
     "name": "stdout",
     "output_type": "stream",
     "text": [
      "10\n",
      "El numero mayor es 10\n"
     ]
    }
   ],
   "source": [
    "# Se leen dos numeros\n",
    "numero1 = int (input(\"Ingresa el primer numero\"))\n",
    "numero2 =  int (input(\"Ingresa el segundo numero\"))\n",
    "\n",
    "# Elegir el numero mas grande\n",
    "\n",
    "if numero1 > numero2:\n",
    "    numero_mayor = numero1\n",
    "\n",
    "else:\n",
    "    numero_mayor = numero2\n",
    "    print(numero_mayor)\n",
    "\n",
    "print(f'El numero mayor es {numero_mayor}')"
   ]
  },
  {
   "cell_type": "code",
   "execution_count": 3,
   "metadata": {},
   "outputs": [
    {
     "name": "stdout",
     "output_type": "stream",
     "text": [
      "El numero mayor es 2\n"
     ]
    }
   ],
   "source": [
    "# Se leen dos numeros\n",
    "numero1 = int (input(\"Ingresa el primer numero\"))\n",
    "numero2 =  int (input(\"Ingresa el segundo numero\"))\n",
    "\n",
    "# Elegir el numero mas grande\n",
    "\n",
    "if numero1 > numero2:\n",
    "  numero_mayor = numero1\n",
    "  print(f'El numero mayor es {numero_mayor}')\n",
    "\n",
    "else:\n",
    "  numero_mayor = numero2\n",
    "print(f'El numero mayor es {numero_mayor}')\n"
   ]
  },
  {
   "cell_type": "markdown",
   "metadata": {},
   "source": [
    "## Ejemplo 2\n",
    "\n",
    "Encontrar el numero más grande de tres numeros \n",
    "\n"
   ]
  },
  {
   "cell_type": "code",
   "execution_count": 7,
   "metadata": {},
   "outputs": [
    {
     "name": "stdout",
     "output_type": "stream",
     "text": [
      "El numero mayor es 80\n"
     ]
    }
   ],
   "source": [
    "#Solicitar tres numeros enteros \n",
    "\n",
    "n1 = int (input('Escribe el primer numero: '))\n",
    "n2 = int (input('Escribe el segundo numero: '))\n",
    "n3 = int (input('Escribe el tercer numero: '))\n",
    "\n",
    "numero_mayor = n1\n",
    "\n",
    "if n2 > numero_mayor : \n",
    "    numero_mayor  = n2\n",
    "elif n3 > numero_mayor :\n",
    "    numero_mayor = n3\n",
    "\n",
    "print(f'El numero mayor es {numero_mayor}')\n",
    "\n",
    "\n"
   ]
  },
  {
   "cell_type": "code",
   "execution_count": 4,
   "metadata": {},
   "outputs": [
    {
     "ename": "ValueError",
     "evalue": "invalid literal for int() with base 10: 'pene'",
     "output_type": "error",
     "traceback": [
      "\u001b[1;31m---------------------------------------------------------------------------\u001b[0m",
      "\u001b[1;31mValueError\u001b[0m                                Traceback (most recent call last)",
      "Cell \u001b[1;32mIn[4], line 3\u001b[0m\n\u001b[0;32m      1\u001b[0m \u001b[38;5;66;03m#Solicitar tres numeros enteros \u001b[39;00m\n\u001b[1;32m----> 3\u001b[0m n1 \u001b[38;5;241m=\u001b[39m \u001b[38;5;28;43mint\u001b[39;49m\u001b[43m \u001b[49m\u001b[43m(\u001b[49m\u001b[38;5;28;43minput\u001b[39;49m\u001b[43m(\u001b[49m\u001b[38;5;124;43m'\u001b[39;49m\u001b[38;5;124;43mEscribe el primer numero: \u001b[39;49m\u001b[38;5;124;43m'\u001b[39;49m\u001b[43m)\u001b[49m\u001b[43m)\u001b[49m\n\u001b[0;32m      4\u001b[0m n2 \u001b[38;5;241m=\u001b[39m \u001b[38;5;28mint\u001b[39m (\u001b[38;5;28minput\u001b[39m(\u001b[38;5;124m'\u001b[39m\u001b[38;5;124mEscribe el segundo numero: \u001b[39m\u001b[38;5;124m'\u001b[39m))\n\u001b[0;32m      5\u001b[0m n3 \u001b[38;5;241m=\u001b[39m \u001b[38;5;28mint\u001b[39m (\u001b[38;5;28minput\u001b[39m(\u001b[38;5;124m'\u001b[39m\u001b[38;5;124mEscribe el tercer numero: \u001b[39m\u001b[38;5;124m'\u001b[39m))\n",
      "\u001b[1;31mValueError\u001b[0m: invalid literal for int() with base 10: 'pene'"
     ]
    }
   ],
   "source": [
    "#Solicitar tres numeros enteros \n",
    "\n",
    "n1 = int (input('Escribe el primer numero: '))\n",
    "n2 = int (input('Escribe el segundo numero: '))\n",
    "n3 = int (input('Escribe el tercer numero: '))\n",
    "\n",
    "if n1 > n2 and n1 > n3:\n",
    "    numero_mayor = 1\n",
    "elif n2 > n1 and n2 > n3:\n",
    "    numero_mayor = n2\n",
    "else:\n",
    "    numero_mayor = n3\n",
    "\n",
    "print(f'El numero mayor es {numero_mayor}')"
   ]
  },
  {
   "cell_type": "code",
   "execution_count": 6,
   "metadata": {},
   "outputs": [
    {
     "name": "stdout",
     "output_type": "stream",
     "text": [
      "No, hola\n"
     ]
    }
   ],
   "source": [
    "entrada = (input('Escribe el tipo de planta'))\n",
    "\n",
    "if entrada == 'ESPATIFILO':\n",
    "    print ('¡El espantifilo es la mejor planta!')\n",
    "elif entrada == 'espatifilo':\n",
    "    print ('No, ¡Quiero un gran Espatifilo!')\n",
    "else:\n",
    "    print (f'No, {entrada}')\n"
   ]
  },
  {
   "cell_type": "code",
   "execution_count": null,
   "metadata": {},
   "outputs": [],
   "source": [
    "ingreso = float (input('Escribe el ingreso del ciudadano'))\n",
    "\n",
    "pesos = 85528\n",
    "if pesos > ingreso:\n",
    "    "
   ]
  }
 ],
 "metadata": {
  "kernelspec": {
   "display_name": "Python 3",
   "language": "python",
   "name": "python3"
  },
  "language_info": {
   "codemirror_mode": {
    "name": "ipython",
    "version": 3
   },
   "file_extension": ".py",
   "mimetype": "text/x-python",
   "name": "python",
   "nbconvert_exporter": "python",
   "pygments_lexer": "ipython3",
   "version": "3.12.3"
  }
 },
 "nbformat": 4,
 "nbformat_minor": 2
}
