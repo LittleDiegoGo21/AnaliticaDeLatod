{
 "cells": [
  {
   "cell_type": "markdown",
   "metadata": {},
   "source": [
    "# Bucles en código while"
   ]
  },
  {
   "cell_type": "markdown",
   "metadata": {},
   "source": [
    "## Bucle o ciclo infinito"
   ]
  },
  {
   "cell_type": "code",
   "execution_count": null,
   "metadata": {},
   "outputs": [],
   "source": [
    "while True:\n",
    " print ('Estoy trabajando en un bucle infinito')"
   ]
  },
  {
   "cell_type": "code",
   "execution_count": null,
   "metadata": {},
   "outputs": [],
   "source": [
    "i = 0\n",
    "while i<=10:\n",
    "     print (i+1)\n",
    "     i+=1 #i+i = 1"
   ]
  },
  {
   "cell_type": "markdown",
   "metadata": {},
   "source": [
    "## Realizar una programa utilizando el ciclo anteriror, pero se debe solicitar al usuario el numero de veces que el usuario de veces que el usuario introducira valores y deben contar cuantos son pares y cuantos impares\n"
   ]
  },
  {
   "cell_type": "code",
   "execution_count": 13,
   "metadata": {},
   "outputs": [
    {
     "name": "stdout",
     "output_type": "stream",
     "text": [
      "El total de pares es: 5\n",
      "El total de pares es: 2\n"
     ]
    }
   ],
   "source": [
    "numero_vueltas = int(input('Introduce el numero de vueltass'))\n",
    "\n",
    "total_pares= 0\n",
    "total_inpares= 0\n",
    "\n",
    "i = 0\n",
    "\n",
    "while i <= numero_vueltas:\n",
    "    numero=int(input(f'introduce el numero {i}'))\n",
    "    \n",
    "    if numero%2 == 0:\n",
    "       total_pares+=1\n",
    "    else:\n",
    "       total_inpares +=1\n",
    "\n",
    "    i+=1\n",
    "\n",
    "print(f'El total de pares es: {total_inpares}')\n",
    "print(f'El total de pares es: {total_pares}')"
   ]
  },
  {
   "cell_type": "code",
   "execution_count": 26,
   "metadata": {},
   "outputs": [
    {
     "name": "stdout",
     "output_type": "stream",
     "text": [
      "El total de pares es: 1\n",
      "El total de pares es: 1\n"
     ]
    }
   ],
   "source": [
    "numero_vueltas = int(input('Introduce el numero de vueltas'))\n",
    "\n",
    "total_pares= 0\n",
    "total_inpares= 0\n",
    "\n",
    "numero = 0\n",
    "\n",
    "while numero!=-1:\n",
    "    numero = int(input(f'introduce el numero {i}'))\n",
    "    \n",
    "    if numero!=-1:\n",
    "       if numero%2 == 0:\n",
    "           total_pares+=1\n",
    "    else:\n",
    "       total_inpares +=1\n",
    "\n",
    "\n",
    "print(f'El total de pares es: {total_inpares}')\n",
    "print(f'El total de pares es: {total_pares}')"
   ]
  },
  {
   "cell_type": "code",
   "execution_count": null,
   "metadata": {},
   "outputs": [],
   "source": [
    "i = 1\n",
    "while True:\n",
    "    if (i)"
   ]
  },
  {
   "cell_type": "markdown",
   "metadata": {},
   "source": [
    "# LAB adivina el número secreto\n",
    "\n",
    "Escenario\n",
    "Un mago junior ha elegido un número secreto. Lo ha escondido en una variable llamada secret_number. Quiere que todos los que ejecutan su programa jueguen el juego Adivina el número secreto, y adivina qué número ha elegido para ellos. ¡Quiénes no adivinen el número quedarán atrapados en un bucle sin fin para siempre! Desafortunadamente, él no sabe cómo completar el código.\n",
    "\n",
    "Tu tarea es ayudar al mago a completar el código en el editor de tal manera que el código:\n",
    "\n",
    "pedirá al usuario que ingrese un número entero;\n",
    "utilizará un bucle while;\n",
    "comprobará si el número ingresado por el usuario es el mismo que el número escogido por el mago. Si el número elegido por el usuario es diferente al número secreto del mago, el usuario debería ver el mensaje \"¡Ja, ja! ¡Estás atrapado en mi bucle!\" y se le solicitará que ingrese un número nuevamente. Si el número ingresado por el usuario coincide con el número escogido por el mago, el número debe imprimirse en la pantalla, y el mago debe decir las siguientes palabras: \"¡Bien hecho, muggle! Eres libre ahora.\"\n",
    "¡El mago está contando contigo! No lo decepciones."
   ]
  },
  {
   "cell_type": "code",
   "execution_count": null,
   "metadata": {},
   "outputs": [],
   "source": [
    "secret_number = 21\n",
    "\n",
    "numero = int (input('Adivina el número secreto'))\n",
    "\n",
    "if numero == secret_number:\n",
    "\n",
    "    print (f)\n"
   ]
  }
 ],
 "metadata": {
  "kernelspec": {
   "display_name": "Python 3",
   "language": "python",
   "name": "python3"
  },
  "language_info": {
   "codemirror_mode": {
    "name": "ipython",
    "version": 3
   },
   "file_extension": ".py",
   "mimetype": "text/x-python",
   "name": "python",
   "nbconvert_exporter": "python",
   "pygments_lexer": "ipython3",
   "version": "3.12.3"
  }
 },
 "nbformat": 4,
 "nbformat_minor": 2
}
